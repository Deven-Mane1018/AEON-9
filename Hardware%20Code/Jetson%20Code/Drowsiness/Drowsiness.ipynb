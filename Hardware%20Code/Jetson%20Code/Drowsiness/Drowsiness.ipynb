{
  "nbformat": 4,
  "nbformat_minor": 0,
  "metadata": {
    "colab": {
      "name": "Drowsiness.ipynb",
      "private_outputs": true,
      "provenance": [],
      "collapsed_sections": [],
      "authorship_tag": "ABX9TyNvPugotMxJ5iYGgqt/eCiU",
      "include_colab_link": true
    },
    "kernelspec": {
      "name": "python3",
      "display_name": "Python 3"
    },
    "language_info": {
      "name": "python"
    }
  },
  "cells": [
    {
      "cell_type": "markdown",
      "metadata": {
        "id": "view-in-github",
        "colab_type": "text"
      },
      "source": [
        "<a href=\"https://colab.research.google.com/github/altaga/Pytorch-Driving-Guardian/blob/main/Hardware%2520Code/Jetson%2520Code/Drowsiness/Drowsiness.ipynb\" target=\"_parent\"><img src=\"https://colab.research.google.com/assets/colab-badge.svg\" alt=\"Open In Colab\"/></a>"
      ]
    },
    {
      "cell_type": "code",
      "metadata": {
        "id": "7GgZE26Zz4IS"
      },
      "source": [
        "!wget https://raw.githubusercontent.com/opencv/opencv/master/data/haarcascades/haarcascade_frontalface_default.xml\n",
        "!wget https://raw.githubusercontent.com/opencv/opencv/master/data/haarcascades/haarcascade_eye.xml\n",
        "!wget https://github.com/altaga/Pytorch-Driving-Guardian/blob/main/Hardware%20Code/Jetson%20Code/Drowsiness/model/BlinkModel.t7?raw=true -O BlinkModel.t7\n",
        "!wget https://i.ibb.co/YX91y16/c1.png\n",
        "!wget https://i.ibb.co/7n8MZSL/c2.png\n",
        "!wget https://i.ibb.co/tcPhrRC/c3.png\n",
        "!wget https://raw.githubusercontent.com/altaga/Pytorch-Driving-Guardian/main/Hardware%20Code/Jetson%20Code/Drowsiness/utils/model.py\n",
        "!wget https://raw.githubusercontent.com/altaga/Pytorch-Driving-Guardian/main/Hardware%20Code/Jetson%20Code/Drowsiness/utils/grad_cam.py"
      ],
      "execution_count": null,
      "outputs": []
    },
    {
      "cell_type": "code",
      "metadata": {
        "id": "mluJuhVn1CQ5"
      },
      "source": [
        "import cv2\n",
        "import matplotlib.pyplot as plt\n",
        "from IPython import display\n",
        "import model\n",
        "import torch\n",
        "import os\n",
        "from torchvision import transforms\n",
        "from PIL import Image\n",
        "from grad_cam import BackPropagation"
      ],
      "execution_count": null,
      "outputs": []
    },
    {
      "cell_type": "code",
      "metadata": {
        "id": "RyO8wkyB1JZG"
      },
      "source": [
        "face_cascade = cv2.CascadeClassifier('haarcascade_frontalface_default.xml')\n",
        "eye_cascade = cv2.CascadeClassifier('haarcascade_eye.xml') \n",
        "MyModel=\"BlinkModel.t7\""
      ],
      "execution_count": null,
      "outputs": []
    },
    {
      "cell_type": "code",
      "metadata": {
        "id": "FZ6vEGmF1OgU"
      },
      "source": [
        "shape = (24,24)\n",
        "classes = [\n",
        "    'Close',\n",
        "    'Open',\n",
        "]\n",
        "\n",
        "eyess=[]\n",
        "cface=0"
      ],
      "execution_count": null,
      "outputs": []
    },
    {
      "cell_type": "code",
      "metadata": {
        "id": "IEGbyur41UAE"
      },
      "source": [
        "def preprocess(image_path):\n",
        "    global cface\n",
        "    transform_test = transforms.Compose([\n",
        "        transforms.ToTensor()\n",
        "    ])\n",
        "    image = cv2.imread(image_path['path'])    \n",
        "    faces = face_cascade.detectMultiScale(\n",
        "        image,\n",
        "        scaleFactor=1.1,\n",
        "        minNeighbors=5,\n",
        "        minSize=(1, 1),\n",
        "        flags=cv2.CASCADE_SCALE_IMAGE\n",
        "    )\n",
        "    if len(faces) == 0:\n",
        "        ...\n",
        "    else:\n",
        "        cface=1\n",
        "        (x, y, w, h) = faces[0]\n",
        "        face = image[y:y + h, x:x + w]\n",
        "        cv2.rectangle(image,(x,y),(x+w,y+h),(255,255,0),2)\n",
        "        roi_color = image[y:y+h, x:x+w]\n",
        "        \"\"\"\n",
        "        Depending on the quality of your camera, this number can vary \n",
        "        between 10 and 40, since this is the \"sensitivity\" to detect the eyes.\n",
        "        \"\"\"\n",
        "        sensi=20\n",
        "        eyes = eye_cascade.detectMultiScale(face,1.3, sensi) \n",
        "        i=0\n",
        "        for (ex,ey,ew,eh) in eyes:\n",
        "            (x, y, w, h) = eyes[i]\n",
        "            cv2.rectangle(roi_color,(ex,ey),(ex+ew,ey+eh),(0,255,0),2)\n",
        "            eye = face[y:y + h, x:x + w]\n",
        "            eye = cv2.resize(eye, shape)\n",
        "            eyess.append([transform_test(Image.fromarray(eye).convert('L')), eye, cv2.resize(face, (48,48))])\n",
        "            i=i+1\n",
        "    cv2.imwrite('display.jpg',image) \n",
        "    \n",
        "\n",
        "def eye_status(image, name, net):\n",
        "    img = torch.stack([image[name]])\n",
        "    bp = BackPropagation(model=net)\n",
        "    probs, ids = bp.forward(img)\n",
        "    actual_status = ids[:, 0]\n",
        "    prob = probs.data[:, 0]\n",
        "    if actual_status == 0:\n",
        "        prob = probs.data[:,1]\n",
        "\n",
        "    #print(name,classes[actual_status.data], probs.data[:,0] * 100)\n",
        "    return classes[actual_status.data]\n",
        "\n",
        "def func(imag,modl):\n",
        "    drow(images=[{'path': imag, 'eye': (0,0,0,0)}],model_name=modl)\n",
        "\n",
        "def drow(images, model_name):\n",
        "    global eyess\n",
        "    global cface\n",
        "    global timebasedrow\n",
        "    global timebasedis\n",
        "    global timerundrow\n",
        "    global timerundis\n",
        "    net = model.Model(num_classes=len(classes))\n",
        "    checkpoint = torch.load(MyModel, map_location=torch.device('cpu'))\n",
        "    net.load_state_dict(checkpoint['net'])\n",
        "    net.eval()\n",
        "    flag =1\n",
        "    status=\"\"\n",
        "    for i, image in enumerate(images):\n",
        "        if(flag):\n",
        "            preprocess(image)\n",
        "            flag=0\n",
        "        if cface==0:\n",
        "            image = cv2.imread(\"display.jpg\")\n",
        "            image = cv2.putText(image, 'No face Detected', (50, 200), cv2.FONT_HERSHEY_SIMPLEX, 7, (255, 0, 0), 10, cv2.LINE_AA)\n",
        "            cv2.imwrite('display.jpg',image)\n",
        "        elif(len(eyess)!=0):\n",
        "            eye, eye_raw , face = eyess[i]\n",
        "            image['eye'] = eye\n",
        "            image['raw'] = eye_raw\n",
        "            image['face'] = face\n",
        "            for index, image in enumerate(images):\n",
        "                status = eye_status(image, 'eye', net)\n",
        "                if(status ==\"Close\"):\n",
        "                    image = cv2.imread(\"display.jpg\")\n",
        "                    image = cv2.putText(image, 'Distracted', (50, 200), cv2.FONT_HERSHEY_SIMPLEX, 7, (255, 0, 0), 10, cv2.LINE_AA)\n",
        "                    cv2.imwrite('display.jpg',image)       \n",
        "        else:\n",
        "            image = cv2.imread(\"display.jpg\")\n",
        "            image = cv2.putText(image, 'Drowsy', (50, 200), cv2.FONT_HERSHEY_SIMPLEX, 7, (255, 0, 0), 10, cv2.LINE_AA)\n",
        "            cv2.imwrite('display.jpg',image)"
      ],
      "execution_count": null,
      "outputs": []
    },
    {
      "cell_type": "code",
      "metadata": {
        "id": "AMdjM5Mo4QQQ"
      },
      "source": [
        "eyess=[]\n",
        "func(\"c1.png\",MyModel)\n",
        "image = cv2.imread(\"display.jpg\")\n",
        "image = cv2.cvtColor(image, cv2.COLOR_BGR2RGB)\n",
        "plt.imshow(image)"
      ],
      "execution_count": null,
      "outputs": []
    },
    {
      "cell_type": "code",
      "metadata": {
        "id": "0N-CzxlIRG_D"
      },
      "source": [
        "eyess=[]\n",
        "func(\"c2.png\",MyModel)\n",
        "image = cv2.imread(\"display.jpg\")\n",
        "image = cv2.cvtColor(image, cv2.COLOR_BGR2RGB)\n",
        "plt.imshow(image)"
      ],
      "execution_count": null,
      "outputs": []
    },
    {
      "cell_type": "code",
      "metadata": {
        "id": "GnzTZk3GRIqd"
      },
      "source": [
        "eyess=[]\n",
        "func(\"c3.png\",MyModel)\n",
        "image = cv2.imread(\"display.jpg\")\n",
        "image = cv2.cvtColor(image, cv2.COLOR_BGR2RGB)\n",
        "plt.imshow(image)"
      ],
      "execution_count": null,
      "outputs": []
    }
  ]
}